{
 "cells": [
  {
   "cell_type": "code",
   "execution_count": 1,
   "id": "77ec6a71-b25b-4ecc-92a9-b343aa1b4ac4",
   "metadata": {},
   "outputs": [],
   "source": [
    "import cv2\n",
    "import os\n",
    "import json\n",
    "import numpy as np"
   ]
  },
  {
   "cell_type": "code",
   "execution_count": 2,
   "id": "574eaf21-44fc-4e33-812e-caad3729a07d",
   "metadata": {},
   "outputs": [],
   "source": [
    "MLconfigPath = \"../../Tests/MLconfigs/FD-OpenCV.json\"\n",
    "\n",
    "with open(MLconfigPath, 'r') as f:\n",
    "    data = json.load(f)\n",
    "    model = data.get(\"model\")\n",
    "    cfg = data.get(\"cfg\")\n",
    "\n",
    "net = cv2.dnn.readNetFromCaffe(cfg, model)"
   ]
  },
  {
   "cell_type": "code",
   "execution_count": 3,
   "id": "bce17bdf-b7f9-4ae2-8711-88ed02e75656",
   "metadata": {},
   "outputs": [
    {
     "name": "stdout",
     "output_type": "stream",
     "text": [
      "(1, 3, 300, 300)\n"
     ]
    }
   ],
   "source": [
    "imgPath = \"/mnt/d/Data/Test Images/Moments_Photos/c_20070313_0074_Pad.png\"\n",
    "\n",
    "img = cv2.imread(imgPath)\n",
    "imgHeight, imgWidth = img.shape[:2]\n",
    "\n",
    "imgResized = imgResized = cv2.resize(img, (300,300))\n",
    "mean = [104, 177, 123]\n",
    "\n",
    "blob = cv2.dnn.blobFromImage(imgResized, 1.0, (300, 300), mean, False, False)\n",
    "print(blob.shape)"
   ]
  },
  {
   "cell_type": "code",
   "execution_count": null,
   "id": "642e93d1-3c5a-476c-a20b-135413072a25",
   "metadata": {},
   "outputs": [],
   "source": [
    "net.setInput(blob)\n",
    "detections = net.forward()\n",
    "\n",
    "bboxes = []\n",
    "conf_thresh = 0.5\n",
    "for i in range(detections.shape[2]):\n",
    "    conf = detections[0,0,i,2]\n",
    "    if conf > conf_thresh:\n",
    "        bbox = detections[0, 0, i, 3:7] * np.array([imgWidth, imgHeight, imgWidth, imgHeight])\n",
    "        x1, y1, x2, y2 = bbox.astype('int')\n",
    "        \n",
    "        label = '{0:.2f}%'.format(conf * 100)\n",
    "        cv2.rectangle(img, (x1, y1), (x2, y2), (0, 0, 255), 2)\n",
    "        cv2.putText(img, label, (x1+2, y1-5), cv2.FONT_HERSHEY_SIMPLEX, 0.5, (255, 255, 255), 2)\n",
    "\n",
    "cv2.imshow('face detection', img)\n",
    "cv2.waitKey(0)\n",
    "cv2.destroyAllWindows()"
   ]
  },
  {
   "cell_type": "code",
   "execution_count": null,
   "id": "526cb9bb-a0d6-46cb-b8c2-3e6e0fc1b004",
   "metadata": {},
   "outputs": [],
   "source": []
  }
 ],
 "metadata": {
  "kernelspec": {
   "display_name": "Python 3 (ipykernel)",
   "language": "python",
   "name": "python3"
  },
  "language_info": {
   "codemirror_mode": {
    "name": "ipython",
    "version": 3
   },
   "file_extension": ".py",
   "mimetype": "text/x-python",
   "name": "python",
   "nbconvert_exporter": "python",
   "pygments_lexer": "ipython3",
   "version": "3.12.3"
  }
 },
 "nbformat": 4,
 "nbformat_minor": 5
}
